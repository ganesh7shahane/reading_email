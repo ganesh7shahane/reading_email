{
 "cells": [
  {
   "cell_type": "code",
   "execution_count": 154,
   "metadata": {},
   "outputs": [
    {
     "name": "stdout",
     "output_type": "stream",
     "text": [
      "---------- Forwarded message ---------\r\n",
      "From: [your-name] <wordpress@meridiocoin.com>\r\n",
      "Date: Sat, Jun 23, 2018 at 12:45 AM\r\n",
      "Subject: Registration Confirmation\r\n",
      "To: <ranzatomatteo@gmail.com>\r\n",
      "\r\n",
      "\r\n",
      "E-Mail: mranzato@baincapital.com\r\n",
      "UserID: 1\r\n",
      "Username: MeridioAdmin\r\n",
      "Wallet: [wallet]\r\n",
      "\n",
      "This is the parsed regex. If it prints the 4 groups, then the code is SUCCESSFUL:\n",
      "mranzato@baincapital.com\r\n",
      "1\r\n",
      "MeridioAdmin\r\n",
      "[wallet]\r\n"
     ]
    }
   ],
   "source": [
    "#Final Code!\n",
    "\n",
    "import imaplib\n",
    "import email\n",
    "import re\n",
    "import html\n",
    "from html.parser import HTMLParser\n",
    "\n",
    "############################################################\n",
    "#Following is the code to connect to my gmail account\n",
    "\n",
    "mail = imaplib.IMAP4_SSL('imap.gmail.com')\n",
    "mail.login('ganesh7shahane@gmail.com', 'Bioinformatics7')\n",
    "mail.list()\n",
    "# Out: list of \"folders\" aka labels in gmail.\n",
    "mail.select(\"inbox\") # connect to inbox.\n",
    "\n",
    "#############################################################\n",
    "#Following is the code to search and fetch ALL emails from a certain sender, in this case ganesh7shahane@gmail.com\n",
    "\n",
    "result, data = mail.search(None, '(FROM \"ranzatomatteo@gmail.com\")')\n",
    "\n",
    "matteo_ID = data[0] #puts all the email IDs from ganesh7shahane@gmail.com in matteo_ID. When this variable is printed, it gives:  b'86 108 109 110 111....49887'\n",
    "\n",
    "data_list = matteo_ID.split() #prints the output: [b'86', b'108', b'109', ..., b'49887']\n",
    "\n",
    "###############################################################\n",
    "#Following is the code to fecth only the latest email from ganesh7shahane@gmail.com\n",
    "\n",
    "latest_matteo_email = data_list[-2] # -1 is the way to fetch the latest email ID, -2 fetches the second latest email\n",
    "\n",
    "result, data = mail.fetch(latest_matteo_email, \"(RFC822)\") # fetches the email using RFC822 method\n",
    "\n",
    "email_body = data[0][1] # if email_body is printed, it prints the gibberish version of email\n",
    "\n",
    "#################################################################\n",
    "#Following is the code to covert the gibberish email (in bytes) output from above to plain text\n",
    "\n",
    "msg = email.message_from_bytes(email_body) #parses the email_body into a readable format\n",
    "#print(msg)\n",
    "\n",
    "for payload in msg.walk(): #here the walk() method goes through the parsed email\n",
    "    if payload.get_content_type().lower() == 'text/plain':\n",
    "        main_body = payload.get_payload() #get_payload() gets the main body of the email\n",
    "#        print(main_body)\n",
    "\n",
    "# We use the following code to define a regex       \n",
    "mainbody_compile = re.compile('E-Mail:\\s+(.*?)\\nUserID:\\s+(.*?)\\nUsername:\\s+(.*?)\\nWallet:\\s+(.*?)\\n')\n",
    "\n",
    "match_email = mainbody_compile.search(main_body) # searches the regex defined above in main_body\n",
    "\n",
    "if match_email:\n",
    "    print(\"This is the parsed regex. If it prints the 4 groups, then the code is SUCCESSFUL:\")\n",
    "    print(match_email.group(1)) #prints the email\n",
    "    print(match_email.group(2)) #prints UserID\n",
    "    print(match_email.group(3)) #prints wallet ID\n",
    "    print(match_email.group(4)) #prints referral code\n",
    "\n"
   ]
  },
  {
   "cell_type": "code",
   "execution_count": 156,
   "metadata": {},
   "outputs": [
    {
     "name": "stdout",
     "output_type": "stream",
     "text": [
      "Email =  mranzato@baincapital.com\r\n",
      "UserID =  1.0\n",
      "Username =  MeridioAdmin\r\n",
      "Wallet =  [wallet]\r",
      " \n",
      "\n",
      "Email =  mranzato@baincapital.com\r\n",
      "UserID =  1.0\n",
      "Username =  MeridioAdmin\r\n",
      "Wallet =  [wallet]\r",
      " \n",
      "\n"
     ]
    }
   ],
   "source": [
    "#Code to create a table, insert values and read the table\n",
    "\n",
    "import sqlite3\n",
    "\n",
    "coin = sqlite3.connect(\"onecompany.db\")\n",
    "\n",
    "email = match_email.group(1)\n",
    "userid = match_email.group(2)\n",
    "username = match_email.group(3)\n",
    "wallet = match_email.group(4)\n",
    "\n",
    "def create_table():\n",
    "    c = coin.cursor()\n",
    "    c.execute('''CREATE TABLE IF NOT EXISTS two_coin\n",
    "              (Email TEXT NOT NULL,\n",
    "               UserID REAL NOT NULL,\n",
    "               Username TEXT NOT NULL,\n",
    "               Wallet TEXT NOT NULL,\n",
    "               ReferalCode TEXT,\n",
    "               CoinCount INT\n",
    "              );''')\n",
    "    coin.commit()\n",
    "    print(\"Table created successfully\")\n",
    "    c.close()\n",
    "\n",
    "def data_entry():\n",
    "    c = coin.cursor()\n",
    "    existing_emails = coin.execute(\"SELECT * FROM one_coin WHERE Email = ?\", (email,))\n",
    "    coin.commit()\n",
    "    if existing_emails.fetchone() is None:\n",
    "        c.execute(\"INSERT INTO two_coin (Email, UserID, Username, Wallet, ReferalCode, CoinCount) VALUES (?, ?, ?, ?)\", (match_email.group(1), match_email.group(2), match_email.group(3), match_email.group(4)));\n",
    "        coin.commit()\n",
    "        print(\"Values inserted successfully\")\n",
    "    else:\n",
    "        print(\"Values alreasy exist\")\n",
    "    c.close()\n",
    "\n",
    "\n",
    "def show_data():\n",
    "    coin = sqlite3.connect(\"onecompany.db\")\n",
    "    cursor = coin.execute(\"SELECT * FROM one_coin\")\n",
    "    coin.commit()\n",
    "    for row in cursor:\n",
    "        print(\"Email = \", row[0])\n",
    "        print(\"UserID = \", row[1])\n",
    "        print(\"Username = \", row[2])\n",
    "        print(\"Wallet = \", row[3], \"\\n\")\n",
    "        \n",
    "    coin.close()\n",
    "\n",
    "#create_table()\n",
    "#data_entry()\n",
    "show_data()\n"
   ]
  },
  {
   "cell_type": "code",
   "execution_count": 106,
   "metadata": {},
   "outputs": [
    {
     "name": "stdout",
     "output_type": "stream",
     "text": [
      "Opened database successfully\n"
     ]
    },
    {
     "ename": "OperationalError",
     "evalue": "database is locked",
     "output_type": "error",
     "traceback": [
      "\u001b[0;31m---------------------------------------------------------------------------\u001b[0m",
      "\u001b[0;31mOperationalError\u001b[0m                          Traceback (most recent call last)",
      "\u001b[0;32m<ipython-input-106-9bbe52c57f8c>\u001b[0m in \u001b[0;36m<module>\u001b[0;34m()\u001b[0m\n\u001b[1;32m      2\u001b[0m \u001b[0mprint\u001b[0m\u001b[0;34m(\u001b[0m\u001b[0;34m\"Opened database successfully\"\u001b[0m\u001b[0;34m)\u001b[0m\u001b[0;34m;\u001b[0m\u001b[0;34m\u001b[0m\u001b[0m\n\u001b[1;32m      3\u001b[0m \u001b[0;34m\u001b[0m\u001b[0m\n\u001b[0;32m----> 4\u001b[0;31m \u001b[0mcursor\u001b[0m \u001b[0;34m=\u001b[0m \u001b[0mconn\u001b[0m\u001b[0;34m.\u001b[0m\u001b[0mexecute\u001b[0m\u001b[0;34m(\u001b[0m\u001b[0;34m\"SELECT * from cointable\"\u001b[0m\u001b[0;34m)\u001b[0m\u001b[0;34m\u001b[0m\u001b[0m\n\u001b[0m\u001b[1;32m      5\u001b[0m \u001b[0;32mfor\u001b[0m \u001b[0mrow\u001b[0m \u001b[0;32min\u001b[0m \u001b[0mcursor\u001b[0m\u001b[0;34m:\u001b[0m\u001b[0;34m\u001b[0m\u001b[0m\n\u001b[1;32m      6\u001b[0m     \u001b[0mprint\u001b[0m\u001b[0;34m(\u001b[0m\u001b[0;34m\"Email = \"\u001b[0m\u001b[0;34m,\u001b[0m \u001b[0mrow\u001b[0m\u001b[0;34m[\u001b[0m\u001b[0;36m0\u001b[0m\u001b[0;34m]\u001b[0m\u001b[0;34m)\u001b[0m\u001b[0;34m\u001b[0m\u001b[0m\n",
      "\u001b[0;31mOperationalError\u001b[0m: database is locked"
     ]
    }
   ],
   "source": [
    "conn = sqlite3.connect('mycompany.db')\n",
    "print(\"Opened database successfully\");\n",
    "\n",
    "cursor = conn.execute(\"SELECT * from cointable\")\n",
    "for row in cursor:\n",
    "    print(\"Email = \", row[0])\n",
    "    print(\"UserID = \", row[1])\n",
    "    print(\"Username = \", row[2])\n",
    "    print(\"Wallet = \", row[3], \"\\n\")\n",
    "\n",
    "print(\"Operation done successfully\");\n",
    "conn.close()"
   ]
  },
  {
   "cell_type": "code",
   "execution_count": 113,
   "metadata": {},
   "outputs": [
    {
     "name": "stdout",
     "output_type": "stream",
     "text": [
      "Opened database successfully\n"
     ]
    },
    {
     "ename": "OperationalError",
     "evalue": "table BATMAN already exists",
     "output_type": "error",
     "traceback": [
      "\u001b[0;31m---------------------------------------------------------------------------\u001b[0m",
      "\u001b[0;31mOperationalError\u001b[0m                          Traceback (most recent call last)",
      "\u001b[0;32m<ipython-input-113-c546bd17a008>\u001b[0m in \u001b[0;36m<module>\u001b[0;34m()\u001b[0m\n\u001b[1;32m     11\u001b[0m          \u001b[0mAGE\u001b[0m            \u001b[0mINT\u001b[0m     \u001b[0mNOT\u001b[0m \u001b[0mNULL\u001b[0m\u001b[0;34m,\u001b[0m\u001b[0;34m\u001b[0m\u001b[0m\n\u001b[1;32m     12\u001b[0m          \u001b[0mADDRESS\u001b[0m        \u001b[0mCHAR\u001b[0m\u001b[0;34m(\u001b[0m\u001b[0;36m50\u001b[0m\u001b[0;34m)\u001b[0m\u001b[0;34m,\u001b[0m\u001b[0;34m\u001b[0m\u001b[0m\n\u001b[0;32m---> 13\u001b[0;31m          SALARY         REAL);''')\n\u001b[0m\u001b[1;32m     14\u001b[0m \u001b[0;34m\u001b[0m\u001b[0m\n\u001b[1;32m     15\u001b[0m \u001b[0mprint\u001b[0m\u001b[0;34m(\u001b[0m\u001b[0;34m\"Table created successfully\"\u001b[0m\u001b[0;34m)\u001b[0m\u001b[0;34m;\u001b[0m\u001b[0;34m\u001b[0m\u001b[0m\n",
      "\u001b[0;31mOperationalError\u001b[0m: table BATMAN already exists"
     ]
    }
   ],
   "source": [
    "#CREATE table operation\n",
    "\n",
    "import sqlite3\n",
    "\n",
    "conn = sqlite3.connect('justice.db')\n",
    "print(\"Opened database successfully\");\n",
    "\n",
    "conn.execute('''CREATE TABLE BATMAN\n",
    "         (ID INT PRIMARY KEY     NOT NULL,\n",
    "         NAME           TEXT    NOT NULL,\n",
    "         AGE            INT     NOT NULL,\n",
    "         ADDRESS        CHAR(50),\n",
    "         SALARY         REAL);''')\n",
    "\n",
    "print(\"Table created successfully\");\n",
    "\n",
    "conn.close()"
   ]
  },
  {
   "cell_type": "code",
   "execution_count": 92,
   "metadata": {},
   "outputs": [
    {
     "name": "stdout",
     "output_type": "stream",
     "text": [
      "Opened database successfully\n"
     ]
    },
    {
     "ename": "OperationalError",
     "evalue": "no such column: trial",
     "output_type": "error",
     "traceback": [
      "\u001b[0;31m---------------------------------------------------------------------------\u001b[0m",
      "\u001b[0;31mOperationalError\u001b[0m                          Traceback (most recent call last)",
      "\u001b[0;32m<ipython-input-92-04582219acd9>\u001b[0m in \u001b[0;36m<module>\u001b[0;34m()\u001b[0m\n\u001b[1;32m     23\u001b[0m \u001b[0;31m#      VALUES (6, 'trial', 22, 'June ', 15000.00 )\");\u001b[0m\u001b[0;34m\u001b[0m\u001b[0;34m\u001b[0m\u001b[0m\n\u001b[1;32m     24\u001b[0m \u001b[0;34m\u001b[0m\u001b[0m\n\u001b[0;32m---> 25\u001b[0;31m \u001b[0mconn\u001b[0m\u001b[0;34m.\u001b[0m\u001b[0mexecute\u001b[0m\u001b[0;34m(\u001b[0m\u001b[0;34m\"INSERT INTO BATMAN (ID,NAME,AGE,ADDRESS,SALARY)       VALUES (7, trial, 21, 'lune ', 95000.00 )\"\u001b[0m\u001b[0;34m)\u001b[0m\u001b[0;34m;\u001b[0m\u001b[0;34m\u001b[0m\u001b[0m\n\u001b[0m\u001b[1;32m     26\u001b[0m \u001b[0;34m\u001b[0m\u001b[0m\n\u001b[1;32m     27\u001b[0m \u001b[0mconn\u001b[0m\u001b[0;34m.\u001b[0m\u001b[0mcommit\u001b[0m\u001b[0;34m(\u001b[0m\u001b[0;34m)\u001b[0m\u001b[0;34m\u001b[0m\u001b[0m\n",
      "\u001b[0;31mOperationalError\u001b[0m: no such column: trial"
     ]
    }
   ],
   "source": [
    "#INSERT operation\n",
    "\n",
    "conn = sqlite3.connect('justice.db')\n",
    "print(\"Opened database successfully\");\n",
    "trial = match_email.group(1)\n",
    "\n",
    "#conn.execute(\"INSERT INTO BATMAN (ID,NAME,AGE,ADDRESS,SALARY) \\\n",
    "#      VALUES (1, 'Paul', 32, 'California', 20000.00 )\");\n",
    "\n",
    "#conn.execute(\"INSERT INTO BATMAN (ID,NAME,AGE,ADDRESS,SALARY) \\\n",
    "#      VALUES (2, 'Allen', 25, 'Texas', 15000.00 )\");\n",
    "\n",
    "#conn.execute(\"INSERT INTO BATMAN (ID,NAME,AGE,ADDRESS,SALARY) \\\n",
    "#      VALUES (3, 'Teddy', 23, 'Norway', 20000.00 )\");\n",
    "\n",
    "#conn.execute(\"INSERT INTO BATMAN (ID,NAME,AGE,ADDRESS,SALARY) \\\n",
    "#      VALUES (4, 'Mark', 25, 'Rich-Mond ', 65000.00 )\");\n",
    "\n",
    "#conn.execute(\"INSERT INTO BATMAN (ID,NAME,AGE,ADDRESS,SALARY) \\\n",
    "#      VALUES (5, 'Ganesh', 29, 'Pune ', 75000.00 )\");\n",
    "\n",
    "#conn.execute(\"INSERT INTO BATMAN (ID,NAME,AGE,ADDRESS,SALARY) \\\n",
    "#      VALUES (6, 'trial', 22, 'June ', 15000.00 )\");\n",
    "\n",
    "conn.execute(\"INSERT INTO BATMAN (ID,NAME,AGE,ADDRESS,SALARY) \\\n",
    "      VALUES (7, trial, 21, 'lune ', 95000.00 )\");\n",
    "\n",
    "conn.commit()\n",
    "print(\"Records created successfully\");\n",
    "conn.close()"
   ]
  },
  {
   "cell_type": "code",
   "execution_count": 137,
   "metadata": {},
   "outputs": [
    {
     "name": "stdout",
     "output_type": "stream",
     "text": [
      "Opened database successfully\n",
      "ID =  1\n",
      "NAME =  Paul\n",
      "ADDRESS =  32\n",
      "SALARY =  California \n",
      "\n",
      "ID =  2\n",
      "NAME =  Allen\n",
      "ADDRESS =  25\n",
      "SALARY =  Texas \n",
      "\n",
      "ID =  3\n",
      "NAME =  Teddy\n",
      "ADDRESS =  23\n",
      "SALARY =  Norway \n",
      "\n",
      "ID =  4\n",
      "NAME =  Mark\n",
      "ADDRESS =  25\n",
      "SALARY =  Rich-Mond  \n",
      "\n",
      "ID =  5\n",
      "NAME =  Ganesh\n",
      "ADDRESS =  29\n",
      "SALARY =  Pune  \n",
      "\n",
      "ID =  6\n",
      "NAME =  trial\n",
      "ADDRESS =  22\n",
      "SALARY =  June  \n",
      "\n",
      "Operation done successfully\n"
     ]
    }
   ],
   "source": [
    "#SELECT operation\n",
    "\n",
    "conn = sqlite3.connect('justice.db')\n",
    "print(\"Opened database successfully\");\n",
    "\n",
    "cursor = conn.execute(\"SELECT * from BATMAN\")\n",
    "for row in cursor:\n",
    "    print(\"ID = \", row[0])\n",
    "    print(\"NAME = \", row[1])\n",
    "    print(\"ADDRESS = \", row[2])\n",
    "    print(\"SALARY = \", row[3], \"\\n\")\n",
    "\n",
    "print(\"Operation done successfully\");\n",
    "conn.close()"
   ]
  },
  {
   "cell_type": "code",
   "execution_count": 69,
   "metadata": {},
   "outputs": [
    {
     "name": "stdout",
     "output_type": "stream",
     "text": [
      "Opened database successfully\n"
     ]
    },
    {
     "ename": "ProgrammingError",
     "evalue": "Cannot operate on a closed database.",
     "output_type": "error",
     "traceback": [
      "\u001b[0;31m---------------------------------------------------------------------------\u001b[0m",
      "\u001b[0;31mProgrammingError\u001b[0m                          Traceback (most recent call last)",
      "\u001b[0;32m<ipython-input-69-ebba81cc4b24>\u001b[0m in \u001b[0;36m<module>\u001b[0;34m()\u001b[0m\n\u001b[1;32m      6\u001b[0m \u001b[0;34m\u001b[0m\u001b[0m\n\u001b[1;32m      7\u001b[0m \u001b[0mc\u001b[0m\u001b[0;34m.\u001b[0m\u001b[0mexecute\u001b[0m\u001b[0;34m(\u001b[0m\u001b[0;34m\"SELECT * from COMPANY\"\u001b[0m\u001b[0;34m)\u001b[0m\u001b[0;34m\u001b[0m\u001b[0m\n\u001b[0;32m----> 8\u001b[0;31m \u001b[0;32mfor\u001b[0m \u001b[0mrow\u001b[0m \u001b[0;32min\u001b[0m \u001b[0mcursor\u001b[0m\u001b[0;34m:\u001b[0m\u001b[0;34m\u001b[0m\u001b[0m\n\u001b[0m\u001b[1;32m      9\u001b[0m     \u001b[0mprint\u001b[0m\u001b[0;34m(\u001b[0m\u001b[0;34m\"ID = \"\u001b[0m\u001b[0;34m,\u001b[0m \u001b[0mrow\u001b[0m\u001b[0;34m[\u001b[0m\u001b[0;36m0\u001b[0m\u001b[0;34m]\u001b[0m\u001b[0;34m)\u001b[0m\u001b[0;34m\u001b[0m\u001b[0m\n\u001b[1;32m     10\u001b[0m     \u001b[0mprint\u001b[0m\u001b[0;34m(\u001b[0m\u001b[0;34m\"NAME = \"\u001b[0m\u001b[0;34m,\u001b[0m \u001b[0mrow\u001b[0m\u001b[0;34m[\u001b[0m\u001b[0;36m1\u001b[0m\u001b[0;34m]\u001b[0m\u001b[0;34m)\u001b[0m\u001b[0;34m\u001b[0m\u001b[0m\n",
      "\u001b[0;31mProgrammingError\u001b[0m: Cannot operate on a closed database."
     ]
    }
   ],
   "source": [
    "#Trying to connect to table COMPANY on this mac machine\n",
    "\n",
    "con = sqlite3.connect('main.db')\n",
    "c = con.cursor()\n",
    "print(\"Opened database successfully\");\n",
    "\n",
    "c.execute(\"SELECT * from COMPANY\")\n",
    "for row in cursor:\n",
    "    print(\"ID = \", row[0])\n",
    "    print(\"NAME = \", row[1])\n",
    "    print(\"ADDRESS = \", row[2])\n",
    "    print(\"SALARY = \", row[3], \"\\n\")\n",
    "\n",
    "con.commit()\n",
    "print(\"Operation done successfully\");\n",
    "c.close()"
   ]
  },
  {
   "cell_type": "code",
   "execution_count": 98,
   "metadata": {},
   "outputs": [
    {
     "ename": "OperationalError",
     "evalue": "database is locked",
     "output_type": "error",
     "traceback": [
      "\u001b[0;31m---------------------------------------------------------------------------\u001b[0m",
      "\u001b[0;31mOperationalError\u001b[0m                          Traceback (most recent call last)",
      "\u001b[0;32m<ipython-input-98-d78c330f73ae>\u001b[0m in \u001b[0;36m<module>\u001b[0;34m()\u001b[0m\n\u001b[1;32m     29\u001b[0m \u001b[0;31m#create_table()\u001b[0m\u001b[0;34m\u001b[0m\u001b[0;34m\u001b[0m\u001b[0m\n\u001b[1;32m     30\u001b[0m \u001b[0;31m#data_entry()\u001b[0m\u001b[0;34m\u001b[0m\u001b[0;34m\u001b[0m\u001b[0m\n\u001b[0;32m---> 31\u001b[0;31m \u001b[0mshow_data\u001b[0m\u001b[0;34m(\u001b[0m\u001b[0;34m)\u001b[0m\u001b[0;34m\u001b[0m\u001b[0m\n\u001b[0m",
      "\u001b[0;32m<ipython-input-98-d78c330f73ae>\u001b[0m in \u001b[0;36mshow_data\u001b[0;34m()\u001b[0m\n\u001b[1;32m     19\u001b[0m \u001b[0;32mdef\u001b[0m \u001b[0mshow_data\u001b[0m\u001b[0;34m(\u001b[0m\u001b[0;34m)\u001b[0m\u001b[0;34m:\u001b[0m\u001b[0;34m\u001b[0m\u001b[0m\n\u001b[1;32m     20\u001b[0m     \u001b[0mc\u001b[0m \u001b[0;34m=\u001b[0m \u001b[0mrandom\u001b[0m\u001b[0;34m.\u001b[0m\u001b[0mcursor\u001b[0m\u001b[0;34m(\u001b[0m\u001b[0;34m)\u001b[0m\u001b[0;34m\u001b[0m\u001b[0m\n\u001b[0;32m---> 21\u001b[0;31m     \u001b[0mc\u001b[0m\u001b[0;34m.\u001b[0m\u001b[0mexecute\u001b[0m\u001b[0;34m(\u001b[0m\u001b[0;34m\"SELECT * FROM stuffToPlot\"\u001b[0m\u001b[0;34m)\u001b[0m\u001b[0;34m\u001b[0m\u001b[0m\n\u001b[0m\u001b[1;32m     22\u001b[0m     \u001b[0;32mfor\u001b[0m \u001b[0mrow\u001b[0m \u001b[0;32min\u001b[0m \u001b[0mcursor\u001b[0m\u001b[0;34m:\u001b[0m\u001b[0;34m\u001b[0m\u001b[0m\n\u001b[1;32m     23\u001b[0m         \u001b[0mprint\u001b[0m\u001b[0;34m(\u001b[0m\u001b[0;34m\"unix = \"\u001b[0m\u001b[0;34m,\u001b[0m \u001b[0mrow\u001b[0m\u001b[0;34m[\u001b[0m\u001b[0;36m0\u001b[0m\u001b[0;34m]\u001b[0m\u001b[0;34m)\u001b[0m\u001b[0;34m\u001b[0m\u001b[0m\n",
      "\u001b[0;31mOperationalError\u001b[0m: database is locked"
     ]
    }
   ],
   "source": [
    "import sqlite3\n",
    "import time\n",
    "import datetime\n",
    "import random\n",
    "\n",
    "random = sqlite3.connect(\"tutorial2.db\")\n",
    "\n",
    "def create_table():\n",
    "    c = random.cursor()\n",
    "    c.execute('CREATE TABLE IF NOT EXISTS stuffToPlot (unix REAL, datestamp TEXT, keyword TEXT, value REAL)')\n",
    "    c.close()\n",
    "\n",
    "def data_entry():\n",
    "    c = random.cursor()\n",
    "    c.execute(\"INSERT INTO stuffToPlot VALUES (145123542, '2016-01-03', 'Python', 7)\")\n",
    "    conn.commit()\n",
    "    c.close()\n",
    "\n",
    "def show_data():\n",
    "    c = random.cursor()\n",
    "    c.execute(\"SELECT * FROM stuffToPlot\")\n",
    "    for row in cursor:\n",
    "        print(\"unix = \", row[0])\n",
    "        print(\"datestamp = \", row[1])\n",
    "        print(\"keyword = \", row[2])\n",
    "        print(\"value = \", row[3], \"\\n\")\n",
    "    c.close()\n",
    "\n",
    "#create_table()\n",
    "#data_entry()\n",
    "show_data()"
   ]
  },
  {
   "cell_type": "code",
   "execution_count": 160,
   "metadata": {},
   "outputs": [
    {
     "name": "stdout",
     "output_type": "stream",
     "text": [
      "oOMKA3iBqDRwVD9v\n"
     ]
    }
   ],
   "source": [
    "import random, string\n",
    "x = ''.join(random.choice(string.ascii_uppercase + string.ascii_lowercase + string.digits) for _ in range(16))\n",
    "print(x)\n"
   ]
  },
  {
   "cell_type": "code",
   "execution_count": 161,
   "metadata": {},
   "outputs": [
    {
     "name": "stdout",
     "output_type": "stream",
     "text": [
      "4\n"
     ]
    }
   ],
   "source": [
    "a =3\n",
    "print(a+1)"
   ]
  },
  {
   "cell_type": "code",
   "execution_count": null,
   "metadata": {},
   "outputs": [],
   "source": []
  }
 ],
 "metadata": {
  "kernelspec": {
   "display_name": "Python 3",
   "language": "python",
   "name": "python3"
  },
  "language_info": {
   "codemirror_mode": {
    "name": "ipython",
    "version": 3
   },
   "file_extension": ".py",
   "mimetype": "text/x-python",
   "name": "python",
   "nbconvert_exporter": "python",
   "pygments_lexer": "ipython3",
   "version": "3.6.4"
  }
 },
 "nbformat": 4,
 "nbformat_minor": 2
}
